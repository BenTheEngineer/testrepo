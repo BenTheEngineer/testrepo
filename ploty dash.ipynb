{
    "cells": [
        {
            "cell_type": "code",
            "execution_count": 1,
            "metadata": {},
            "outputs": [
                {
                    "ename": "ModuleNotFoundError",
                    "evalue": "No module named 'dash'",
                    "output_type": "error",
                    "traceback": [
                        "\u001b[0;31m---------------------------------------------------------------------------\u001b[0m",
                        "\u001b[0;31mModuleNotFoundError\u001b[0m                       Traceback (most recent call last)",
                        "\u001b[0;32m<ipython-input-1-1e8021bef312>\u001b[0m in \u001b[0;36m<module>\u001b[0;34m\u001b[0m\n\u001b[1;32m      1\u001b[0m \u001b[0;31m# Import required libraries\u001b[0m\u001b[0;34m\u001b[0m\u001b[0;34m\u001b[0m\u001b[0;34m\u001b[0m\u001b[0m\n\u001b[1;32m      2\u001b[0m \u001b[0;32mimport\u001b[0m \u001b[0mpandas\u001b[0m \u001b[0;32mas\u001b[0m \u001b[0mpd\u001b[0m\u001b[0;34m\u001b[0m\u001b[0;34m\u001b[0m\u001b[0m\n\u001b[0;32m----> 3\u001b[0;31m \u001b[0;32mimport\u001b[0m \u001b[0mdash\u001b[0m\u001b[0;34m\u001b[0m\u001b[0;34m\u001b[0m\u001b[0m\n\u001b[0m\u001b[1;32m      4\u001b[0m \u001b[0;32mimport\u001b[0m \u001b[0mdash_html_components\u001b[0m \u001b[0;32mas\u001b[0m \u001b[0mhtml\u001b[0m\u001b[0;34m\u001b[0m\u001b[0;34m\u001b[0m\u001b[0m\n\u001b[1;32m      5\u001b[0m \u001b[0;32mimport\u001b[0m \u001b[0mdash_core_components\u001b[0m \u001b[0;32mas\u001b[0m \u001b[0mdcc\u001b[0m\u001b[0;34m\u001b[0m\u001b[0;34m\u001b[0m\u001b[0m\n",
                        "\u001b[0;31mModuleNotFoundError\u001b[0m: No module named 'dash'"
                    ]
                }
            ],
            "source": "# Import required libraries\nimport pandas as pd\nimport dash\nimport dash_html_components as html\nimport dash_core_components as dcc\nfrom dash.dependencies import Input, Output\nimport plotly.express as px\n\n# Read the airline data into pandas dataframe\nspacex_df = pd.read_csv(\"spacex_launch_dash.csv\")\nmax_payload = spacex_df['Payload Mass (kg)'].max()\nmin_payload = spacex_df['Payload Mass (kg)'].min()\n\n# Create a dash application\napp = dash.Dash(__name__)\n\n# Create an app layout\napp.layout = html.Div(children=[html.H1('SpaceX Launch Records Dashboard',\n                                        style={'textAlign': 'center', 'color': '#503D36',\n                                               'font-size': 40}),\n                                # TASK 1: Add a dropdown list to enable Launch Site selection\n                                # The default select value is for ALL sites\n                                # dcc.Dropdown(id='site-dropdown',...)\n                                html.Br(),\n                                html.Div([\n                                        # Create an division for adding dropdown helper text for report type\n                                        html.Div(\n                                            [\n                                            html.H2('Launch Site:', style={'margin-right': '2em'}),\n                                            ]\n                                        ),\n                                        # TODO2: Add a dropdown\n                                        dcc.Dropdown(id='site-dropdown', \n                                                     # Update dropdown values using list comphrehension\n                                                     options=[{'label': 'All Site', 'value': 'ALL'},{'label': 'KSC LC-39A', 'value': 'KSC LC-39A'},{'label': 'CCAFS LC-40', 'value': 'CCAFS LC-40'},{'label': 'VAFB SLC-4E', 'value': 'VAFB SLC-4E'},{'label': 'CCAFS SLC-40', 'value': 'CCAFS SLC-40'}],\n                                                     placeholder=\"Select a launch site\",\n                                                     searchable=True,\n                                                     style={'width':'80%', 'padding':'3px', 'font-size': '20px', 'text-align-last' : 'center'}),\n                                    # Place them next to each other using the division style\n                                    ], style={'display':'flex'}),\n                                # TASK 2: Add a pie chart to show the total successful launches count for all sites\n                                # If a specific launch site was selected, show the Success vs. Failed counts for the site\n                                html.Div(dcc.Graph(id='success-pie-chart')),\n                                html.Br(),\n\n                                html.P(\"Payload range (Kg):\"),\n                                # TASK 3: Add a slider to select payload range\n                                #dcc.RangeSlider(id='payload-slider',...)\n                                dcc.RangeSlider(id='payload-slider',\n                                    min=0, max=10000, step=1000,\n                                    marks={0: '0',\n                                        100: '100'},\n                                    value=[min_payload, max_payload]),\n                                # TASK 4: Add a scatter chart to show the correlation between payload and launch success\n                                html.Div(dcc.Graph(id='success-payload-scatter-chart')),\n                                ])\n\n# TASK 2:\n# Add a callback function for `site-dropdown` as input, `success-pie-chart` as output\n\n# Function decorator to specify function input and output\n@app.callback(Output(component_id='success-pie-chart', component_property='figure'),\n              Input(component_id='site-dropdown', component_property='value'))\ndef get_pie_chart(entered_site):\n    filtered_df = spacex_df[spacex_df['Launch Site'] == entered_site]\n    if entered_site == 'ALL':\n        fig1 = px.pie(spacex_df, values='class', \n        names='Launch Site', \n        title='Total Success Launches for all sites')\n        return fig1\n    else:\n        # return the outcomes piechart for a selected site\n        fig1 = px.pie(filtered_df, labels=[1,0],values=filtered_df['class'].value_counts().values,  \n        title='Total Success Launches for site'+str(entered_site))\n        return fig1\n\n\n# TASK 4:\n# Add a callback function for `site-dropdown` and `payload-slider` as inputs, `success-payload-scatter-chart` as output\n\n@app.callback(Output(component_id='success-payload-scatter-chart', component_property='figure'),\n              [Input(component_id='site-dropdown', component_property='value'), Input(component_id=\"payload-slider\", component_property=\"value\")])\ndef get_scatter_chart(entered_site,payloadmass):\n    filtered_df = spacex_df[spacex_df['Launch Site'] == entered_site]\n    if entered_site == 'ALL':\n        fig2 = px.scatter(data_frame=spacex_df,y='class',x=\"Payload Mass (kg)\", \n        color=\"Booster Version Category\",\n        title='Correlation between payload and success for all sites')\n        return fig2\n    else:\n        # return the outcomes piechart for a selected site\n        fig2 = px.scatter(data_frame=filtered_df,y='class',x=\"Payload Mass (kg)\", \n        color=\"Booster Version Category\",\n        title='orrelation between payload and success for '+ str(entered_site))\n        return fig2\n\n# Run the app\nif __name__ == '__main__':\n    app.run_server()\n\n#python3 spacex_dash_app.py\n"
        },
        {
            "cell_type": "code",
            "execution_count": null,
            "metadata": {},
            "outputs": [],
            "source": ""
        }
    ],
    "metadata": {
        "kernelspec": {
            "display_name": "Python 3.8",
            "language": "python",
            "name": "python3"
        },
        "language_info": {
            "codemirror_mode": {
                "name": "ipython",
                "version": 3
            },
            "file_extension": ".py",
            "mimetype": "text/x-python",
            "name": "python",
            "nbconvert_exporter": "python",
            "pygments_lexer": "ipython3",
            "version": "3.8.11"
        }
    },
    "nbformat": 4,
    "nbformat_minor": 1
}